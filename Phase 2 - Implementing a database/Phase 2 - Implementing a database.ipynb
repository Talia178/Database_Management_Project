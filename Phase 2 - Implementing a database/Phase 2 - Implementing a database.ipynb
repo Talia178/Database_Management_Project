{
 "cells": [
  {
   "attachments": {},
   "cell_type": "markdown",
   "metadata": {},
   "source": [
    "# Phase 2: Implementing a database for VictoryRide Transport Services"
   ]
  },
  {
   "attachments": {},
   "cell_type": "markdown",
   "metadata": {},
   "source": [
    "In this section, we will dive into the implementation phase of the VictoryRide Transport Services database. Here, we will focus on the crucial aspects of database creation and data management using Data Definition Statements (DDS) and Data Manipulation Statements (DMS). We will explore code snippets with brief explanation that demonstrate how to define the structure of the database, create tables, enforce constraints, and insert data. Additionally, we will delve into the realm of querying the database using DMS to extract meaningful insights, validate data integrity, and ensure the effectiveness of the implemented constraints. Through these code snippets, we will gain hands-on experience in implementing a robust and well-structured database solution for VictoryRide Transport Services."
   ]
  },
  {
   "attachments": {},
   "cell_type": "markdown",
   "metadata": {},
   "source": [
    "    1. CREATE database and tables"
   ]
  },
  {
   "cell_type": "code",
   "execution_count": null,
   "metadata": {
    "vscode": {
     "languageId": "sql"
    }
   },
   "outputs": [],
   "source": [
    "CREATE DATABASE IF NOT EXISTS VictoryRide;\n",
    "\n",
    "USE VictoryRide\n",
    "CREATE TABLE IF NOT EXISTS LANGUAGE (\n",
    "    LanguageCode CHAR(2) PRIMARY KEY,\n",
    "    LanguageName VARCHAR(50)\n",
    "    ) ENGINE = InnoDB;"
   ]
  },
  {
   "attachments": {},
   "cell_type": "markdown",
   "metadata": {},
   "source": [
    "    2. Setting PRIMARY & FOREIGN KEY constraints"
   ]
  },
  {
   "attachments": {},
   "cell_type": "markdown",
   "metadata": {},
   "source": [
    "        2.1. Tables with One Primary Key"
   ]
  },
  {
   "cell_type": "code",
   "execution_count": null,
   "metadata": {
    "vscode": {
     "languageId": "sql"
    }
   },
   "outputs": [],
   "source": [
    "CREATE TABLE IF NOT EXISTS LOCATION_TYPE (\n",
    "    LocTypeID CHAR(2) PRIMARY KEY,\n",
    "    LocTypeDescription VARCHAR(40)\n",
    "    ) ENGINE = InnoDB;"
   ]
  },
  {
   "attachments": {},
   "cell_type": "markdown",
   "metadata": {},
   "source": [
    "        2.2. Tables with Composite Primary Key"
   ]
  },
  {
   "cell_type": "code",
   "execution_count": null,
   "metadata": {
    "vscode": {
     "languageId": "sql"
    }
   },
   "outputs": [],
   "source": [
    "CREATE TABLE IF NOT EXISTS COUNTRY_LANGUAGE (\n",
    "    CountryCode CHAR(2),\n",
    "    LanguageCode CHAR(2),\n",
    "    PRIMARY KEY (CountryCode, LanguageCode)\n",
    "    ) ENGINE = InnoDB;"
   ]
  },
  {
   "attachments": {},
   "cell_type": "markdown",
   "metadata": {},
   "source": [
    "        2.3. Foreign Key"
   ]
  },
  {
   "cell_type": "code",
   "execution_count": null,
   "metadata": {
    "vscode": {
     "languageId": "sql"
    }
   },
   "outputs": [],
   "source": [
    "CREATE TABLE IF NOT EXISTS CARGO_VEHICLE (\n",
    "    VIN CHAR(17) PRIMARY KEY,\n",
    "    Carg_cfeet_capacity SMALLINT,\n",
    "    Carg_tons_capacity DECIMAL(5,2),\n",
    "    FOREIGN KEY (VIN) REFERENCES VEHICLE(VIN)\n",
    "    ) ENGINE = InnoDB;"
   ]
  },
  {
   "attachments": {},
   "cell_type": "markdown",
   "metadata": {},
   "source": [
    "    3. Other constraints"
   ]
  },
  {
   "attachments": {},
   "cell_type": "markdown",
   "metadata": {},
   "source": [
    "        3.1. UNIQUE - It ensures that a specific column or set of columns contains unique values."
   ]
  },
  {
   "cell_type": "code",
   "execution_count": null,
   "metadata": {
    "vscode": {
     "languageId": "sql"
    }
   },
   "outputs": [],
   "source": [
    "CREATE TABLE IF NOT EXISTS COUNTRY (\n",
    "    CountryCode CHAR(2) PRIMARY KEY,\n",
    "    CountryName VARCHAR(50) UNIQUE\n",
    "    ) ENGINE = InnoDB;"
   ]
  },
  {
   "attachments": {},
   "cell_type": "markdown",
   "metadata": {},
   "source": [
    "        3.2. NOT NULL - It ensures that a column cannot have a null value."
   ]
  },
  {
   "cell_type": "code",
   "execution_count": null,
   "metadata": {
    "vscode": {
     "languageId": "sql"
    }
   },
   "outputs": [],
   "source": [
    "CREATE TABLE IF NOT EXISTS OFFICIAL_ROLE (\n",
    "    RoleID CHAR(2) PRIMARY KEY,\n",
    "    RoleDescription VARCHAR(40) NOT NULL\n",
    "    ) ENGINE = InnoDB;"
   ]
  },
  {
   "attachments": {},
   "cell_type": "markdown",
   "metadata": {},
   "source": [
    "        3.3. CHECK - It validates that a column's value meets certain conditions."
   ]
  },
  {
   "cell_type": "code",
   "execution_count": null,
   "metadata": {
    "vscode": {
     "languageId": "sql"
    }
   },
   "outputs": [],
   "source": [
    "CREATE TABLE IF NOT EXISTS PASSENGER_VEHICLE (\n",
    "    VIN CHAR(17) PRIMARY KEY,\n",
    "    Pass_seat_capacity TINYINT,\n",
    "    CHECK (Pass_seat_capacity < 6)\n",
    "    ) ENGINE = InnoDB;"
   ]
  },
  {
   "attachments": {},
   "cell_type": "markdown",
   "metadata": {},
   "source": [
    "        3.4. AUTO INCREMENT - It’s used to automatically generate unique values for a column, typically used for primary keys."
   ]
  },
  {
   "cell_type": "code",
   "execution_count": null,
   "metadata": {
    "vscode": {
     "languageId": "sql"
    }
   },
   "outputs": [],
   "source": [
    "CREATE TABLE IF NOT EXISTS LOCATION (\n",
    "    LocationID INT PRIMARY KEY AUTO_INCREMENT,\n",
    "\t\tPostcode CHAR(4)\n",
    "    ) AUTO_INCREMENT = 1\n",
    "ENGINE = InnoDB;"
   ]
  },
  {
   "attachments": {},
   "cell_type": "markdown",
   "metadata": {},
   "source": [
    "    4. Populate and Modify data"
   ]
  },
  {
   "attachments": {},
   "cell_type": "markdown",
   "metadata": {},
   "source": [
    "        4.1. INSERT - used to insert new records into a table"
   ]
  },
  {
   "cell_type": "code",
   "execution_count": null,
   "metadata": {
    "vscode": {
     "languageId": "sql"
    }
   },
   "outputs": [],
   "source": [
    "USE VictoryRide;\n",
    "\n",
    "INSERT INTO official_role VALUES\n",
    "(\"CP\", \"Captain\");\n",
    "\n",
    "INSERT INTO maintenance_repair VALUES \n",
    "('AZ34','2000','M',STR_TO_DATE('18-06-2022', '%d-%m-%Y'),'2000.00','Oil Change');"
   ]
  },
  {
   "attachments": {},
   "cell_type": "markdown",
   "metadata": {},
   "source": [
    "        4.2. UPDATE - used to modify existing records in a table"
   ]
  },
  {
   "cell_type": "code",
   "execution_count": null,
   "metadata": {
    "vscode": {
     "languageId": "sql"
    }
   },
   "outputs": [],
   "source": [
    "USE VictoryRide;\n",
    "\n",
    "UPDATE official_language\n",
    "SET LanguageCode = \"en\"\n",
    "WHERE OfficialID = \"SPN12345\";"
   ]
  },
  {
   "attachments": {},
   "cell_type": "markdown",
   "metadata": {},
   "source": [
    "    5. Test and Validate\n",
    "Test the database by executing queries, validating constraints, and performing various operations to ensure everything works as intended."
   ]
  },
  {
   "attachments": {},
   "cell_type": "markdown",
   "metadata": {},
   "source": [
    "Example 1:  Find the Locations whose city names consist of one or more words, and the last word is four character long ending with a ‘k’. For each such location, display its street number, street name, and city."
   ]
  },
  {
   "cell_type": "code",
   "execution_count": null,
   "metadata": {
    "vscode": {
     "languageId": "sql"
    }
   },
   "outputs": [],
   "source": [
    "SELECT StreetNo, StreetName, City\n",
    "FROM location\n",
    "WHERE City LIKE '% ___k';"
   ]
  },
  {
   "attachments": {},
   "cell_type": "markdown",
   "metadata": {},
   "source": [
    "Example 2: Find the Date on which the most recent Trip(s) was(were) completed. Show the date as well as the vehicle model(s) and type(s) (description) involved in the trip(s)."
   ]
  },
  {
   "cell_type": "code",
   "execution_count": null,
   "metadata": {
    "vscode": {
     "languageId": "sql"
    }
   },
   "outputs": [],
   "source": [
    "SELECT \n",
    "\tDATE_FORMAT(T.EndTimeActual,'%d/%m/%Y') AS \"Date\",\n",
    "\tV.Veh_Model AS \"Vehicle Model\",\n",
    "\tVT.Veh_Type_Description AS \"Vehicle Type\"\n",
    "FROM \n",
    "\ttrip AS T,\n",
    "\tvehicle AS V,\n",
    "\tvehicle_type AS VT\n",
    "WHERE T.VIN = V.VIN \n",
    "\tAND V.Veh_TypeID = VT.Veh_TypeID\n",
    "ORDER BY T.EndTimeActual DESC\n",
    "LIMIT 0,1;"
   ]
  },
  {
   "attachments": {},
   "cell_type": "markdown",
   "metadata": {},
   "source": [
    "Example 3: List the Vehicles which have been driven more than 1000 KM in total for VictoryRide trips. Display the vehicle registration numbers and total kilometres travelled. Show the list sorted by total kilometre travelled."
   ]
  },
  {
   "cell_type": "code",
   "execution_count": null,
   "metadata": {
    "vscode": {
     "languageId": "sql"
    }
   },
   "outputs": [],
   "source": [
    "SELECT V.Veh_RegoNum AS `Vehicle Registration Number`,\n",
    "       SUM(T.EndOdometerKM - T.StartOdometerKM) AS `Total Kilometers Traveled`\n",
    "FROM TRIP T, VEHICLE V\n",
    "WHERE T.VIN = V.VIN\n",
    "  AND T.EndOdometerKM - T.StartOdometerKM > 1000\n",
    "GROUP BY T.VIN, V.Veh_RegoNum\n",
    "ORDER BY `Total Kilometers Traveled` DESC;"
   ]
  },
  {
   "attachments": {},
   "cell_type": "markdown",
   "metadata": {},
   "source": [
    "Example 4: Find the Passenger Vehicles whose one or more (single) repair costs were more than the average repair cost of all vehicles. For each vehicle, display the vehicle registration number, make, model, seat capacity, and total repair cost. Note that if a vehicle went for multiple repairs, its total repair cost is the sum of all these (single) repair costs."
   ]
  },
  {
   "cell_type": "code",
   "execution_count": null,
   "metadata": {
    "vscode": {
     "languageId": "sql"
    }
   },
   "outputs": [],
   "source": [
    "SELECT\n",
    "\tV.Veh_RegoNum AS \"Vehicle Registration Num\",\n",
    "\tV.Veh_Make AS \"Vehicle Make\",\n",
    "\tV.Veh_Model AS \"Vehicle Model\",\n",
    "\tP.Pass_seat_capacity AS \"Seat Capacity\",\n",
    "\tCONCAT(\"$ \",SUM(MR.MR_Cost)) AS \"Maitenance and Repair Cost\"\n",
    "FROM vehicle AS V,\n",
    "\tpassenger_vehicle AS P,\n",
    "    maintenance_repair AS MR\n",
    "WHERE V.VIN = MR.VIN \n",
    "\tAND V.VIN = P.VIN \n",
    "\tAND V.Veh_For_Passenger = \"Y\"\n",
    "GROUP BY V.VIN\n",
    "HAVING\n",
    "    SUM(MR.MR_Cost) > (SELECT AVG(MR_Cost) FROM maintenance_repair);"
   ]
  },
  {
   "attachments": {},
   "cell_type": "markdown",
   "metadata": {},
   "source": [
    "Example 5: A list of all Drivers who have not been involved in any trip yet (i.e., haven’t actually driven for any trips yet). Display the drivers’ full names, security clearance levels, and the languages they speak with at their highest proficiency levels. Note that a driver may speak in more than one language at his/her highest level of proficiency, which can be 5 or below."
   ]
  },
  {
   "cell_type": "code",
   "execution_count": null,
   "metadata": {
    "vscode": {
     "languageId": "sql"
    }
   },
   "outputs": [],
   "source": [
    "SELECT \n",
    "    CONCAT(D.DriverFirstName, ' ', D.DriverLastName) AS \"Drivers Fullname\",\n",
    "    D.ClearanceLevel AS \"Security Clearance Levels\",\n",
    "    L.LanguageName\n",
    "FROM \n",
    "    driver D, language L, driver_language DL\n",
    "WHERE \n",
    "    D.DriverLicenceNum = DL.DriverLicenceNum\n",
    "    AND DL.LanguageCode = L.LanguageCode\n",
    "    AND (DL.DriverLicenceNum, DL.DriverLanguageProf) IN (\n",
    "        SELECT DriverLicenceNum, MAX(DriverLanguageProf)\n",
    "        FROM driver_language\n",
    "        GROUP BY DriverLicenceNum\n",
    "    )\n",
    "    AND NOT EXISTS (\n",
    "        SELECT 1\n",
    "        FROM trip T\n",
    "        WHERE D.DriverLicenceNum = T.DriverLicenceNum\n",
    "    );"
   ]
  },
  {
   "attachments": {},
   "cell_type": "markdown",
   "metadata": {},
   "source": [
    "    6. Optimize and Fine-tune\n",
    "During the testing phase, you may identify areas where the database performance can be improved.\n",
    "    \n",
    "    7. Deploy, Monitor and Maitain\n",
    "Once the database implementation is validated and optimized, it can be deployed to the production environment. Ongoing monitoring and maintenance of the database are essential to ensure its continued optimal performance and data integrity. Regular backups, security measures, and performance monitoring should be established to support the ongoing operation of the database."
   ]
  }
 ],
 "metadata": {
  "language_info": {
   "name": "python"
  },
  "orig_nbformat": 4
 },
 "nbformat": 4,
 "nbformat_minor": 2
}
